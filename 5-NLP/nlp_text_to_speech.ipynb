{
 "cells": [
  {
   "cell_type": "code",
   "execution_count": 1,
   "metadata": {},
   "outputs": [],
   "source": [
    "import nltk"
   ]
  },
  {
   "cell_type": "code",
   "execution_count": 2,
   "metadata": {},
   "outputs": [],
   "source": [
    "import nltk.corpus"
   ]
  },
  {
   "cell_type": "markdown",
   "metadata": {},
   "source": [
    "# Tokenization"
   ]
  },
  {
   "cell_type": "code",
   "execution_count": 4,
   "metadata": {},
   "outputs": [],
   "source": [
    "from nltk.tokenize import word_tokenize"
   ]
  },
  {
   "cell_type": "code",
   "execution_count": 5,
   "metadata": {},
   "outputs": [],
   "source": [
    "chess = \"Samay Raina is the best chess streamer in the world\""
   ]
  },
  {
   "cell_type": "code",
   "execution_count": 6,
   "metadata": {},
   "outputs": [
    {
     "data": {
      "text/plain": [
       "['Samay',\n",
       " 'Raina',\n",
       " 'is',\n",
       " 'the',\n",
       " 'best',\n",
       " 'chess',\n",
       " 'streamer',\n",
       " 'in',\n",
       " 'the',\n",
       " 'world']"
      ]
     },
     "execution_count": 6,
     "metadata": {},
     "output_type": "execute_result"
    }
   ],
   "source": [
    "word_tokenize(chess)"
   ]
  },
  {
   "cell_type": "markdown",
   "metadata": {},
   "source": [
    "# sentence tokenizer\n"
   ]
  },
  {
   "cell_type": "code",
   "execution_count": 35,
   "metadata": {},
   "outputs": [],
   "source": [
    "from nltk.tokenize import sent_tokenize"
   ]
  },
  {
   "cell_type": "code",
   "execution_count": 8,
   "metadata": {},
   "outputs": [],
   "source": [
    "chess2 = \"Samay Raina is the best chess streamer in the world. Sagar Shah is the best chess coach in the world\""
   ]
  },
  {
   "cell_type": "code",
   "execution_count": 9,
   "metadata": {},
   "outputs": [
    {
     "data": {
      "text/plain": [
       "['Samay Raina is the best chess streamer in the world.',\n",
       " 'Sagar Shah is the best chess coach in the world']"
      ]
     },
     "execution_count": 9,
     "metadata": {},
     "output_type": "execute_result"
    }
   ],
   "source": [
    "sent_tokenize(chess2)"
   ]
  },
  {
   "cell_type": "code",
   "execution_count": 10,
   "metadata": {},
   "outputs": [
    {
     "data": {
      "text/plain": [
       "10"
      ]
     },
     "execution_count": 10,
     "metadata": {},
     "output_type": "execute_result"
    }
   ],
   "source": [
    "#Checking the number of tokens\n",
    "len(word_tokenize(chess))"
   ]
  },
  {
   "cell_type": "markdown",
   "metadata": {},
   "source": [
    "# bigrams and n-grams"
   ]
  },
  {
   "cell_type": "code",
   "execution_count": 12,
   "metadata": {},
   "outputs": [],
   "source": [
    "astronaut = \"Can anybody hear me or am I talking to myself? My mind is running empty in the search for someone else\""
   ]
  },
  {
   "cell_type": "code",
   "execution_count": 13,
   "metadata": {},
   "outputs": [],
   "source": [
    "astronaut_token=(word_tokenize(astronaut))"
   ]
  },
  {
   "cell_type": "code",
   "execution_count": 14,
   "metadata": {},
   "outputs": [
    {
     "data": {
      "text/plain": [
       "[('Can', 'anybody'),\n",
       " ('anybody', 'hear'),\n",
       " ('hear', 'me'),\n",
       " ('me', 'or'),\n",
       " ('or', 'am'),\n",
       " ('am', 'I'),\n",
       " ('I', 'talking'),\n",
       " ('talking', 'to'),\n",
       " ('to', 'myself'),\n",
       " ('myself', '?'),\n",
       " ('?', 'My'),\n",
       " ('My', 'mind'),\n",
       " ('mind', 'is'),\n",
       " ('is', 'running'),\n",
       " ('running', 'empty'),\n",
       " ('empty', 'in'),\n",
       " ('in', 'the'),\n",
       " ('the', 'search'),\n",
       " ('search', 'for'),\n",
       " ('for', 'someone'),\n",
       " ('someone', 'else')]"
      ]
     },
     "execution_count": 14,
     "metadata": {},
     "output_type": "execute_result"
    }
   ],
   "source": [
    "list(nltk.bigrams(astronaut_token))"
   ]
  },
  {
   "cell_type": "code",
   "execution_count": 15,
   "metadata": {},
   "outputs": [
    {
     "data": {
      "text/plain": [
       "[('Can', 'anybody', 'hear'),\n",
       " ('anybody', 'hear', 'me'),\n",
       " ('hear', 'me', 'or'),\n",
       " ('me', 'or', 'am'),\n",
       " ('or', 'am', 'I'),\n",
       " ('am', 'I', 'talking'),\n",
       " ('I', 'talking', 'to'),\n",
       " ('talking', 'to', 'myself'),\n",
       " ('to', 'myself', '?'),\n",
       " ('myself', '?', 'My'),\n",
       " ('?', 'My', 'mind'),\n",
       " ('My', 'mind', 'is'),\n",
       " ('mind', 'is', 'running'),\n",
       " ('is', 'running', 'empty'),\n",
       " ('running', 'empty', 'in'),\n",
       " ('empty', 'in', 'the'),\n",
       " ('in', 'the', 'search'),\n",
       " ('the', 'search', 'for'),\n",
       " ('search', 'for', 'someone'),\n",
       " ('for', 'someone', 'else')]"
      ]
     },
     "execution_count": 15,
     "metadata": {},
     "output_type": "execute_result"
    }
   ],
   "source": [
    "list(nltk.trigrams(astronaut_token))"
   ]
  },
  {
   "cell_type": "code",
   "execution_count": 16,
   "metadata": {},
   "outputs": [
    {
     "data": {
      "text/plain": [
       "[('Can', 'anybody', 'hear', 'me', 'or'),\n",
       " ('anybody', 'hear', 'me', 'or', 'am'),\n",
       " ('hear', 'me', 'or', 'am', 'I'),\n",
       " ('me', 'or', 'am', 'I', 'talking'),\n",
       " ('or', 'am', 'I', 'talking', 'to'),\n",
       " ('am', 'I', 'talking', 'to', 'myself'),\n",
       " ('I', 'talking', 'to', 'myself', '?'),\n",
       " ('talking', 'to', 'myself', '?', 'My'),\n",
       " ('to', 'myself', '?', 'My', 'mind'),\n",
       " ('myself', '?', 'My', 'mind', 'is'),\n",
       " ('?', 'My', 'mind', 'is', 'running'),\n",
       " ('My', 'mind', 'is', 'running', 'empty'),\n",
       " ('mind', 'is', 'running', 'empty', 'in'),\n",
       " ('is', 'running', 'empty', 'in', 'the'),\n",
       " ('running', 'empty', 'in', 'the', 'search'),\n",
       " ('empty', 'in', 'the', 'search', 'for'),\n",
       " ('in', 'the', 'search', 'for', 'someone'),\n",
       " ('the', 'search', 'for', 'someone', 'else')]"
      ]
     },
     "execution_count": 16,
     "metadata": {},
     "output_type": "execute_result"
    }
   ],
   "source": [
    "list(nltk.ngrams(astronaut_token,5))"
   ]
  },
  {
   "cell_type": "markdown",
   "metadata": {},
   "source": [
    "# Stemming"
   ]
  },
  {
   "cell_type": "code",
   "execution_count": 18,
   "metadata": {},
   "outputs": [],
   "source": [
    "from nltk.stem import PorterStemmer"
   ]
  },
  {
   "cell_type": "code",
   "execution_count": 19,
   "metadata": {},
   "outputs": [],
   "source": [
    "my_stem = PorterStemmer()"
   ]
  },
  {
   "cell_type": "code",
   "execution_count": 20,
   "metadata": {},
   "outputs": [
    {
     "data": {
      "text/plain": [
       "'eat'"
      ]
     },
     "execution_count": 20,
     "metadata": {},
     "output_type": "execute_result"
    }
   ],
   "source": [
    "my_stem.stem(\"eating\")"
   ]
  },
  {
   "cell_type": "code",
   "execution_count": 21,
   "metadata": {},
   "outputs": [
    {
     "data": {
      "text/plain": [
       "'go'"
      ]
     },
     "execution_count": 21,
     "metadata": {},
     "output_type": "execute_result"
    }
   ],
   "source": [
    "my_stem.stem(\"going\")"
   ]
  },
  {
   "cell_type": "code",
   "execution_count": 22,
   "metadata": {},
   "outputs": [
    {
     "data": {
      "text/plain": [
       "'shop'"
      ]
     },
     "execution_count": 22,
     "metadata": {},
     "output_type": "execute_result"
    }
   ],
   "source": [
    "my_stem.stem(\"shopping\")"
   ]
  },
  {
   "cell_type": "markdown",
   "metadata": {},
   "source": [
    "# pos-tagging"
   ]
  },
  {
   "cell_type": "code",
   "execution_count": 24,
   "metadata": {},
   "outputs": [],
   "source": [
    "tom =\"Tom Hanks is the best actor in the world\""
   ]
  },
  {
   "cell_type": "code",
   "execution_count": 25,
   "metadata": {},
   "outputs": [],
   "source": [
    "tom_token = word_tokenize(tom)"
   ]
  },
  {
   "cell_type": "code",
   "execution_count": 26,
   "metadata": {},
   "outputs": [
    {
     "data": {
      "text/plain": [
       "[('Tom', 'NNP'),\n",
       " ('Hanks', 'NNP'),\n",
       " ('is', 'VBZ'),\n",
       " ('the', 'DT'),\n",
       " ('best', 'JJS'),\n",
       " ('actor', 'NN'),\n",
       " ('in', 'IN'),\n",
       " ('the', 'DT'),\n",
       " ('world', 'NN')]"
      ]
     },
     "execution_count": 26,
     "metadata": {},
     "output_type": "execute_result"
    }
   ],
   "source": [
    "nltk.pos_tag(tom_token)"
   ]
  },
  {
   "cell_type": "markdown",
   "metadata": {},
   "source": [
    "# Named entity recognition"
   ]
  },
  {
   "cell_type": "code",
   "execution_count": 28,
   "metadata": {},
   "outputs": [],
   "source": [
    "from nltk import ne_chunk"
   ]
  },
  {
   "cell_type": "code",
   "execution_count": 29,
   "metadata": {},
   "outputs": [],
   "source": [
    "president = \"Barack Obama was the 44th President of America\""
   ]
  },
  {
   "cell_type": "code",
   "execution_count": 30,
   "metadata": {},
   "outputs": [],
   "source": [
    "president_token = word_tokenize(president)"
   ]
  },
  {
   "cell_type": "code",
   "execution_count": 31,
   "metadata": {},
   "outputs": [],
   "source": [
    "president_pos = nltk.pos_tag(president_token)"
   ]
  },
  {
   "cell_type": "code",
   "execution_count": 34,
   "metadata": {},
   "outputs": [
    {
     "data": {
      "text/html": [
       "\n",
       "                <audio  controls=\"controls\" autoplay=\"autoplay\">\n",
       "                    <source src=\"data:audio/wav;base64,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\" type=\"audio/wav\" />\n",
       "                    Your browser does not support the audio element.\n",
       "                </audio>\n",
       "              "
      ],
      "text/plain": [
       "<IPython.lib.display.Audio object>"
      ]
     },
     "execution_count": 34,
     "metadata": {},
     "output_type": "execute_result"
    }
   ],
   "source": [
    "from gtts import gTTS\n",
    "from IPython.display import Audio\n",
    "tts = gTTS('Hello Atul, How are ')\n",
    "tts.save('1.wav')\n",
    "sound_file = '1.wav'\n",
    "Audio(sound_file, autoplay=True)"
   ]
  }
 ],
 "metadata": {
  "kernelspec": {
   "display_name": "Python 3 (ipykernel)",
   "language": "python",
   "name": "python3"
  },
  "language_info": {
   "codemirror_mode": {
    "name": "ipython",
    "version": 3
   },
   "file_extension": ".py",
   "mimetype": "text/x-python",
   "name": "python",
   "nbconvert_exporter": "python",
   "pygments_lexer": "ipython3",
   "version": "3.10.2"
  }
 },
 "nbformat": 4,
 "nbformat_minor": 2
}
