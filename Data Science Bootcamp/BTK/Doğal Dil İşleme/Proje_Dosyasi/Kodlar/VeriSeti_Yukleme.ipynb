{
  "metadata": {
    "language_info": {
      "codemirror_mode": {
        "name": "python",
        "version": 3
      },
      "file_extension": ".py",
      "mimetype": "text/x-python",
      "name": "python",
      "nbconvert_exporter": "python",
      "pygments_lexer": "ipython3",
      "version": "3.8"
    },
    "kernelspec": {
      "name": "python",
      "display_name": "Pyolite",
      "language": "python"
    }
  },
  "nbformat_minor": 4,
  "nbformat": 4,
  "cells": [
    {
      "cell_type": "code",
      "source": "import pandas as pd\ndata = pd.read_csv('./product_reviews.txt', delimiter = '\\t')\ndata = data.sample(frac=1).reset_index(drop=True)",
      "metadata": {},
      "execution_count": null,
      "outputs": []
    },
    {
      "cell_type": "code",
      "source": "data.head()",
      "metadata": {},
      "execution_count": null,
      "outputs": []
    },
    {
      "cell_type": "code",
      "source": "data['label'].value_counts()",
      "metadata": {},
      "execution_count": null,
      "outputs": []
    }
  ]
}