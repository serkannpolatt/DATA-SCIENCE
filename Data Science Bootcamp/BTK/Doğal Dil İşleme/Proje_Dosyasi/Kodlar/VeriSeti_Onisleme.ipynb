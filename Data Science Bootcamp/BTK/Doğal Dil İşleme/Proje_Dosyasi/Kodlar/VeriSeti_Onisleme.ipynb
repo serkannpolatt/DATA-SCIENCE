{
  "metadata": {
    "language_info": {
      "codemirror_mode": {
        "name": "python",
        "version": 3
      },
      "file_extension": ".py",
      "mimetype": "text/x-python",
      "name": "python",
      "nbconvert_exporter": "python",
      "pygments_lexer": "ipython3",
      "version": "3.8"
    },
    "kernelspec": {
      "name": "python",
      "display_name": "Pyolite",
      "language": "python"
    }
  },
  "nbformat_minor": 4,
  "nbformat": 4,
  "cells": [
    {
      "cell_type": "code",
      "source": "import string\nimport re\nimport nltk\nfrom nltk.corpus import stopwords\n\n\nnoktalama = string.punctuation\netkisiz = stopwords.words('turkish')\nprint(noktalama)\nprint(etkisiz)",
      "metadata": {},
      "execution_count": null,
      "outputs": []
    },
    {
      "cell_type": "code",
      "source": "for d in data['review'].head():\n    print(d+ \"\\n----------------------\")\n    #etkisiz kelimelerin atilmasi\n    for word in d.split():\n        if word not in etkisiz and not word.isnumeric():\n            temp += word + ' '\n    print(temp+ \"\\n********************\")",
      "metadata": {},
      "execution_count": null,
      "outputs": []
    }
  ]
}