{
  "metadata": {
    "language_info": {
      "codemirror_mode": {
        "name": "python",
        "version": 3
      },
      "file_extension": ".py",
      "mimetype": "text/x-python",
      "name": "python",
      "nbconvert_exporter": "python",
      "pygments_lexer": "ipython3",
      "version": "3.8"
    },
    "kernelspec": {
      "name": "python",
      "display_name": "Pyolite",
      "language": "python"
    }
  },
  "nbformat_minor": 4,
  "nbformat": 4,
  "cells": [
    {
      "cell_type": "code",
      "source": "# Sınıflandırıcı ile test seti üzerinde tahminleme yapıyoruz\ny_pred = clf.predict(X_test_tfidf)\nfor review, sentiment in zip(X_test[:5], y_pred[:]):\n    print('%r => %s' % (review, sentiment))",
      "metadata": {},
      "execution_count": null,
      "outputs": []
    },
    {
      "cell_type": "code",
      "source": "#Performans sonuçları\nfrom sklearn.metrics import accuracy_score\nprint(accuracy_score(y_test, y_pred))",
      "metadata": {},
      "execution_count": null,
      "outputs": []
    }
  ]
}