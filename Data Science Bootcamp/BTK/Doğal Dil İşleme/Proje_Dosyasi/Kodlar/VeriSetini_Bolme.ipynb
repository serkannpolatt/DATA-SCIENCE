{
  "metadata": {
    "language_info": {
      "codemirror_mode": {
        "name": "python",
        "version": 3
      },
      "file_extension": ".py",
      "mimetype": "text/x-python",
      "name": "python",
      "nbconvert_exporter": "python",
      "pygments_lexer": "ipython3",
      "version": "3.8"
    },
    "kernelspec": {
      "name": "python",
      "display_name": "Pyolite",
      "language": "python"
    }
  },
  "nbformat_minor": 4,
  "nbformat": 4,
  "cells": [
    {
      "cell_type": "code",
      "source": "# Temizlenmiş veriyi train ve test kümelerine ayırıyoruz\nfrom sklearn.model_selection import train_test_split\nX_train, X_test, y_train, y_test = train_test_split(data['review'].values.astype('U'),\n                                                    data['label'].values.astype('U'), test_size=0.1, rnadom_state=42)\nprint(X_train.shape)\nprint(X_test.shape)",
      "metadata": {},
      "execution_count": null,
      "outputs": []
    }
  ]
}