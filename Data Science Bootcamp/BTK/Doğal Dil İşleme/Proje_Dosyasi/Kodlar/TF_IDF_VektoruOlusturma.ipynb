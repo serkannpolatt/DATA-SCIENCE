{
  "metadata": {
    "language_info": {
      "codemirror_mode": {
        "name": "python",
        "version": 3
      },
      "file_extension": ".py",
      "mimetype": "text/x-python",
      "name": "python",
      "nbconvert_exporter": "python",
      "pygments_lexer": "ipython3",
      "version": "3.8"
    },
    "kernelspec": {
      "name": "python",
      "display_name": "Pyolite",
      "language": "python"
    }
  },
  "nbformat_minor": 4,
  "nbformat": 4,
  "cells": [
    {
      "cell_type": "code",
      "source": "# Temizlenmiş veriyi train ve test kümelerine ayırıyoruz\nfrom sklearn.feature_extraction.text import TFidfTransformer\ntfidf_transformer = TFidfTransformer()\nX_train_tfidf = tfidf_transformer.fit_transform(X_train_counts)\n\nprint(X_train_tfidf.shape)",
      "metadata": {},
      "execution_count": null,
      "outputs": []
    }
  ]
}