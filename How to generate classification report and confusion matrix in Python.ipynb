{
 "cells": [
  {
   "cell_type": "markdown",
   "metadata": {},
   "source": [
    "# How to generate classification report and confusion matrix in Python"
   ]
  },
  {
   "cell_type": "code",
   "execution_count": 1,
   "metadata": {},
   "outputs": [
    {
     "name": "stdout",
     "output_type": "stream",
     "text": [
      "\n",
      "********How to generate classification report & confusion matrix in Python********\n",
      "\n",
      "              precision    recall  f1-score   support\n",
      "\n",
      "      setosa       1.00      1.00      1.00        15\n",
      "  versicolor       1.00      0.80      0.89        15\n",
      "   virginica       0.87      1.00      0.93        20\n",
      "\n",
      "   micro avg       0.94      0.94      0.94        50\n",
      "   macro avg       0.96      0.93      0.94        50\n",
      "weighted avg       0.95      0.94      0.94        50\n",
      "\n",
      "\n",
      "[[15  0  0]\n",
      " [ 0 12  3]\n",
      " [ 0  0 20]]\n"
     ]
    }
   ],
   "source": [
    "## How to generate classification report and confusion matrix in Python\n",
    "def Snippet_138(): \n",
    "    print()\n",
    "    print(format('How to generate classification report & confusion matrix in Python','*^82'))  \n",
    "    \n",
    "    import warnings\n",
    "    warnings.filterwarnings(\"ignore\")\n",
    "    \n",
    "    # load libraries\n",
    "    from sklearn import datasets\n",
    "    from sklearn.tree import DecisionTreeClassifier\n",
    "    from sklearn.model_selection import train_test_split\n",
    "    from sklearn.metrics import classification_report, confusion_matrix\n",
    "    \n",
    "    # Load data\n",
    "    iris = datasets.load_iris()\n",
    "    X = iris.data\n",
    "    y = iris.target\n",
    "    \n",
    "    # Create list of target class names\n",
    "    class_names = iris.target_names\n",
    "    \n",
    "    # Create training and test set\n",
    "    X_train, X_test, y_train, y_test = train_test_split(X, y, test_size=0.33)\n",
    "\n",
    "    # Create DecisionTree model\n",
    "    classifier = DecisionTreeClassifier()\n",
    "    \n",
    "    # Train model and make predictions\n",
    "    y_hat = classifier.fit(X_train, y_train).predict(X_test)\n",
    "\n",
    "    # Create a classification report\n",
    "    print()\n",
    "    print(classification_report(y_test, y_hat, target_names=class_names))\n",
    "    \n",
    "    # Create a confusion matrix\n",
    "    print()\n",
    "    print(confusion_matrix(y_test, y_hat))\n",
    "    \n",
    "Snippet_138()"
   ]
  }
 ],
 "metadata": {
  "kernelspec": {
   "display_name": "Python 3",
   "language": "python",
   "name": "python3"
  },
  "language_info": {
   "codemirror_mode": {
    "name": "ipython",
    "version": 3
   },
   "file_extension": ".py",
   "mimetype": "text/x-python",
   "name": "python",
   "nbconvert_exporter": "python",
   "pygments_lexer": "ipython3",
   "version": "3.6.8"
  }
 },
 "nbformat": 4,
 "nbformat_minor": 2
}
